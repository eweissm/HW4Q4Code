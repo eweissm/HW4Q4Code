{
 "cells": [
  {
   "cell_type": "markdown",
   "source": [
    "# Homework 4 question 4"
   ],
   "metadata": {
    "collapsed": false
   }
  },
  {
   "cell_type": "markdown",
   "source": [
    "Import, declare initial conditions, set some constants, set up derivatives needed"
   ],
   "metadata": {
    "collapsed": false
   }
  },
  {
   "cell_type": "code",
   "execution_count": 7,
   "outputs": [],
   "source": [
    "import numpy as np\n",
    "\n",
    "x1 = 1  # initial driving condition\n",
    "\n",
    "x2 = 1  # initial state conditions\n",
    "x3 = 1\n",
    "\n",
    "X = np.array([x2, x3, x1])\n",
    "\n",
    "k = 0  # initialize counter for solver\n",
    "e = 10 ** -3  # minimum error for slope\n",
    "\n",
    "maxLineseachSteps = 50\n",
    "maxRalphsonSteps = 30\n",
    "\n",
    "sk = np.array([X[0], X[1]])  # state variables\n",
    "dk = np.array([X[2]])  # decision variable\n",
    "\n",
    "dfdx1 = np.array([2 * X[2]])  # dfdd (partial)\n",
    "dfds = np.array([2 * X[0], 2 * X[1]])  # dfds (partial)\n",
    "dhds = np.array([[2 / 5 * X[0], 2 / 25 * X[1]],\n",
    "                 [1, -1]])\n",
    "\n",
    "dhdd = np.array([[1 / 2 * X[2]], [1]])\n",
    "dfdd = dfdx1 - np.matmul(np.matmul(dfds, np.linalg.inv(dhds)), dhdd)  # non-linear dfdd"
   ],
   "metadata": {
    "collapsed": false
   }
  },
  {
   "cell_type": "markdown",
   "source": [
    "This is the function that needs to be optimized"
   ],
   "metadata": {
    "collapsed": false
   }
  },
  {
   "cell_type": "code",
   "execution_count": 8,
   "outputs": [],
   "source": [
    "def f(X):\n",
    "    x1 = X[2]\n",
    "    x2 = X[0]\n",
    "    x3 = X[1]\n",
    "    return x1 ** 2 + x2 ** 2 + x3 ** 2"
   ],
   "metadata": {
    "collapsed": false
   }
  },
  {
   "cell_type": "markdown",
   "source": [
    "These are the constraints"
   ],
   "metadata": {
    "collapsed": false
   }
  },
  {
   "cell_type": "code",
   "execution_count": 9,
   "outputs": [],
   "source": [
    "def constraints(X):  # constraint\n",
    "    x1 = X[2]\n",
    "    x2 = X[0]\n",
    "    x3 = X[1]\n",
    "    h1 = x1 ** 2 / 4 + x2 ** 2 / 5 + x3 ** 2 / 25 - 1\n",
    "    h2 = x1 + x2 - x3\n",
    "    return np.array([[h1], [h2]])"
   ],
   "metadata": {
    "collapsed": false
   }
  },
  {
   "cell_type": "markdown",
   "source": [
    "Implement an inexact line search algorithm which returns the step matrix and step size"
   ],
   "metadata": {
    "collapsed": false
   }
  },
  {
   "cell_type": "code",
   "execution_count": 10,
   "outputs": [],
   "source": [
    "def linesearch(dfdd, sk, dk, dhds_line, dhdd_line):  # inexact line search\n",
    "    alpha = 1\n",
    "\n",
    "    if dfdd < 0:\n",
    "        alpha = -0.1\n",
    "\n",
    "    #line search parameters\n",
    "    b = 0.4\n",
    "    t = 0.2\n",
    "\n",
    "    i = 0\n",
    "\n",
    "    dhds_inv = np.linalg.inv(dhds_line)  # calculates inverse of dhds for function evaluation\n",
    "\n",
    "    skstep_matrix = np.transpose(np.matmul(np.matmul(dhds_inv, dhdd_line), dfdd))\n",
    "    sk1 = sk + alpha * skstep_matrix  # state step\n",
    "    dk1 = dk - alpha * dfdd  # driving step\n",
    "    X_step = np.concatenate((sk1, dk1), axis=None)\n",
    "    funct = f(X_step)\n",
    "    phi = f(np.concatenate((sk, dk), axis=None)) - alpha * t * (dfdd)**2  # phi with step\n",
    "    while funct > phi and i < maxLineseachSteps:\n",
    "        alpha = b * alpha #shrink step size\n",
    "        sk1 = sk + alpha * skstep_matrix\n",
    "        dk1 = dk - alpha * dfdd\n",
    "        X_step = np.concatenate((sk1, dk1), axis=None)\n",
    "        funct = f(X_step)\n",
    "        phi = f(np.concatenate((sk, dk), axis=None)) - alpha * t * (dfdd)**2 #recalc for new alpha value\n",
    "        i += 1\n",
    "\n",
    "    return alpha, skstep_matrix"
   ],
   "metadata": {
    "collapsed": false
   }
  },
  {
   "cell_type": "markdown",
   "source": [
    "Solve the minimization problem using newton ralphson"
   ],
   "metadata": {
    "collapsed": false
   }
  },
  {
   "cell_type": "code",
   "execution_count": 11,
   "outputs": [],
   "source": [
    "def solvefunc(decision, state_approx):\n",
    "    c = 0\n",
    "    x1 = decision\n",
    "    x2 = state_approx[0]\n",
    "    x3 = state_approx[1]\n",
    "    skactual = np.array([x2, x3])\n",
    "    Xpart = np.concatenate((state_approx, decision), axis=None)\n",
    "    h = constraints(Xpart)\n",
    "    while np.linalg.norm(h) >e and c < maxRalphsonSteps:\n",
    "        sktran = np.reshape(skactual, (2,1)) - np.matmul(\n",
    "            np.linalg.inv(np.array([[2 / 5 * Xpart[0], 2 / 25 * Xpart[1]], [1, -1]])), constraints(Xpart))\n",
    "        x2 = sktran[0]\n",
    "        x3 = sktran[1]\n",
    "        skactual = np.concatenate((x2, x3), axis=None)\n",
    "        Xpart = np.concatenate((x2, x3, x1), axis=None)\n",
    "        h = constraints(Xpart)\n",
    "        c += 1\n",
    "\n",
    "    return skactual"
   ],
   "metadata": {
    "collapsed": false
   }
  },
  {
   "cell_type": "markdown",
   "source": [
    "loop algorithm until problem converges"
   ],
   "metadata": {
    "collapsed": false
   }
  },
  {
   "cell_type": "code",
   "execution_count": 12,
   "outputs": [
    {
     "name": "stdout",
     "output_type": "stream",
     "text": [
      "x1 = -1.57372121\n",
      "x2 = 1.37718472\n",
      "x3 = -0.19653649\n",
      "f(x) = 4.41186281\n"
     ]
    }
   ],
   "source": [
    "while np.linalg.norm(dfdd) > e and k < maxRalphsonSteps:  # solver loop\n",
    "    alphak, stepmatrix = linesearch(dfdd, sk, dk, dhds, dhdd)\n",
    "    dk = dk - alphak * dfdd\n",
    "    sk_lin_approx = sk + alphak * stepmatrix\n",
    "    sk = solvefunc(dk, sk_lin_approx)\n",
    "    X = np.concatenate((sk, dk), axis=None)\n",
    "    dfdx1 = np.array([2 * X[2]])\n",
    "    dfds = np.array([2 * X[0], 2 * X[1]])\n",
    "    dhds = np.array([[2 / 5 * X[0], 2 / 25 * X[1]],\n",
    "                     [1, -1]])\n",
    "    dhdd = np.array([[1 / 2 * X[2]], [1]])\n",
    "    dfdd = dfdx1 - np.matmul(np.matmul(dfds, np.linalg.inv(dhds)), dhdd)\n",
    "    k += 1\n",
    "\n",
    "sol = f(X)\n",
    "print(\"x1 = \" + np.array2string(X[2]) + \"\\nx2 = \" + np.array2string(X[0]) + \"\\nx3 = \" + np.array2string(\n",
    "    X[1]) + \"\\nf(x) = \" + np.array2string(sol) )"
   ],
   "metadata": {
    "collapsed": false
   }
  }
 ],
 "metadata": {
  "kernelspec": {
   "display_name": "Python 3",
   "language": "python",
   "name": "python3"
  },
  "language_info": {
   "codemirror_mode": {
    "name": "ipython",
    "version": 2
   },
   "file_extension": ".py",
   "mimetype": "text/x-python",
   "name": "python",
   "nbconvert_exporter": "python",
   "pygments_lexer": "ipython2",
   "version": "2.7.6"
  }
 },
 "nbformat": 4,
 "nbformat_minor": 0
}
